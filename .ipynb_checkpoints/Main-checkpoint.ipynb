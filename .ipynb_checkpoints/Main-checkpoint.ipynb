{
 "cells": [
  {
   "cell_type": "markdown",
   "id": "ab0837ed-2441-4fb2-9845-c86a6fa3cebc",
   "metadata": {},
   "source": [
    "### Model Development and Evaluation"
   ]
  },
  {
   "cell_type": "markdown",
   "id": "c9a5a71c-dbfc-4433-b091-5639be47d992",
   "metadata": {},
   "source": [
    "##### Load Dependencies"
   ]
  },
  {
   "cell_type": "code",
   "execution_count": 65,
   "id": "2f1f3769-1973-4750-89b7-917e13e55c97",
   "metadata": {},
   "outputs": [],
   "source": [
    "# load dependencies\n",
    "import pandas as pd\n",
    "import numpy as np\n",
    "import matplotlib.pyplot as plt\n",
    "import seaborn as sns\n",
    "from sklearn.model_selection import train_test_split, GridSearchCV\n",
    "from sklearn.preprocessing import StandardScaler\n",
    "from sklearn.linear_model import LinearRegression, Lasso, Ridge\n",
    "from sklearn.ensemble import RandomForestRegressor\n",
    "from xgboost import XGBRegressor\n",
    "from sklearn.metrics import mean_squared_error, r2_score\n",
    "from sklearn.feature_selection import VarianceThreshold\n",
    "import joblib"
   ]
  },
  {
   "cell_type": "markdown",
   "id": "13f37b13-79b9-4a04-b9b4-5df0b5e198c5",
   "metadata": {},
   "source": [
    "##### Load and Preprocess the data"
   ]
  },
  {
   "cell_type": "code",
   "execution_count": 66,
   "id": "6c36e69d-118c-48b9-a4d8-22e60dff1d54",
   "metadata": {},
   "outputs": [
    {
     "name": "stdout",
     "output_type": "stream",
     "text": [
      "Data preprocessing completed!\n"
     ]
    }
   ],
   "source": [
    "# Load dataset\n",
    "filepath = \"data/cleaned_dataset.csv\"\n",
    "df = pd.read_csv(filepath)\n",
    "\n",
    "# Target and features\n",
    "target = \"Base Price\"\n",
    "features = [\n",
    "    \"Property ID\", \"Property Type\", \"Building Size - GIA (M2)\", \"Site Area (Hectares)\", \n",
    "    \"Occupied by Council / Direct Service Property\", \"Council Tax\", \"New Price\", \n",
    "    \"Price Per Sq Meter\", \"Property History Count\"\n",
    "]\n",
    "\n",
    "# Drop rows with missing target values\n",
    "df = df.dropna(subset=[target])\n",
    "\n",
    "# One-hot encode categorical features\n",
    "categorical_cols = [\"Property Type\", \"Occupied by Council / Direct Service Property\"]\n",
    "df = pd.get_dummies(df, columns=categorical_cols, drop_first=True)\n",
    "\n",
    "# Validate features\n",
    "features = [col for col in features if col in df.columns]\n",
    "\n",
    "# Split into X and y\n",
    "X = df[features].copy()  # Use .copy() to avoid modifying the original df\n",
    "y = df[target].copy()\n",
    "\n",
    "# Handle NaN and infinite values safely\n",
    "X = X.replace([np.inf, -np.inf], np.nan)\n",
    "X = X.fillna(0)\n",
    "\n",
    "# Remove zero-variance features\n",
    "selector = VarianceThreshold(threshold=0.0)\n",
    "X = pd.DataFrame(selector.fit_transform(X), columns=X.columns[selector.get_support()])\n",
    "\n",
    "# Split the data into training and testing sets\n",
    "X_train, X_test, y_train, y_test = train_test_split(X, y, test_size=0.2, random_state=42)\n",
    "\n",
    "# Scale the data\n",
    "scaler = StandardScaler()\n",
    "X_train = scaler.fit_transform(X_train)\n",
    "X_test = scaler.transform(X_test)\n",
    "\n",
    "print(\"Data preprocessing completed!\")"
   ]
  },
  {
   "cell_type": "markdown",
   "id": "d568fd2f-d42d-486a-9284-a40746ad8196",
   "metadata": {},
   "source": [
    "##### Model Training and Evaluation"
   ]
  },
  {
   "cell_type": "code",
   "execution_count": 67,
   "id": "fbbf1b82-f679-4cbe-a2ea-ef3371aca263",
   "metadata": {},
   "outputs": [
    {
     "name": "stdout",
     "output_type": "stream",
     "text": [
      "Linear Regression: RMSE = 118320.61, R² = 0.81\n",
      "Ridge Regression: RMSE = 117491.32, R² = 0.81\n",
      "Lasso Regression: RMSE = 118320.58, R² = 0.81\n",
      "Random Forest: RMSE = 107159.51, R² = 0.84\n",
      "\n",
      " Model training and evaluation completed!\n"
     ]
    }
   ],
   "source": [
    "# Function to train and evaluate models\n",
    "def train_and_evaluate(model, X_train, X_test, y_train, y_test, model_name):\n",
    "    model.fit(X_train, y_train)\n",
    "    y_pred = model.predict(X_test)\n",
    "\n",
    "    rmse = np.sqrt(mean_squared_error(y_test, y_pred))\n",
    "    r2 = r2_score(y_test, y_pred)\n",
    "\n",
    "    print(f\"{model_name}: RMSE = {rmse:.2f}, R² = {r2:.2f}\")\n",
    "    \n",
    "    return model, rmse, r2, y_pred\n",
    "\n",
    "# Initialize models\n",
    "models = {\n",
    "    \"Linear Regression\": LinearRegression(),\n",
    "    \"Ridge Regression\": Ridge(alpha=1.0),\n",
    "    \"Lasso Regression\": Lasso(alpha=0.1),\n",
    "    \"Random Forest\": RandomForestRegressor(n_estimators=100, random_state=42)\n",
    "}\n",
    "\n",
    "# Train and evaluate models\n",
    "results = {}\n",
    "predictions = {}\n",
    "for name, model in models.items():\n",
    "    trained_model, rmse, r2, y_pred = train_and_evaluate(model, X_train, X_test, y_train, y_test, name)\n",
    "    results[name] = {\"model\": trained_model, \"RMSE\": rmse, \"R2\": r2}\n",
    "    predictions[name] = y_pred\n",
    "\n",
    "print(\"\\n Model training and evaluation completed!\")"
   ]
  },
  {
   "cell_type": "markdown",
   "id": "540efc4b-0d2b-41b5-be80-13f6e6e77be0",
   "metadata": {},
   "source": [
    "##### Hyperparameter Tuning"
   ]
  },
  {
   "cell_type": "code",
   "execution_count": 68,
   "id": "6b972dfa-0d00-4646-9df5-08eb63c16433",
   "metadata": {},
   "outputs": [
    {
     "name": "stdout",
     "output_type": "stream",
     "text": [
      "Params: n_estimators=100, lr=0.01, depth=3, Score=0.8800\n",
      "Params: n_estimators=100, lr=0.01, depth=5, Score=0.8817\n",
      "Params: n_estimators=100, lr=0.01, depth=7, Score=0.8817\n",
      "Params: n_estimators=100, lr=0.1, depth=3, Score=0.9562\n",
      "Params: n_estimators=100, lr=0.1, depth=5, Score=0.9580\n",
      "Params: n_estimators=100, lr=0.1, depth=7, Score=0.9582\n",
      "Params: n_estimators=200, lr=0.01, depth=3, Score=0.9616\n",
      "Params: n_estimators=200, lr=0.01, depth=5, Score=0.9632\n",
      "Params: n_estimators=200, lr=0.01, depth=7, Score=0.9632\n",
      "Params: n_estimators=200, lr=0.1, depth=3, Score=0.9520\n",
      "Params: n_estimators=200, lr=0.1, depth=5, Score=0.9563\n",
      "Params: n_estimators=200, lr=0.1, depth=7, Score=0.9565\n",
      "Best validation R^2 score: 0.9632\n",
      "Best parameters for XGBRegressor: {'objective': 'reg:squarederror', 'base_score': None, 'booster': None, 'callbacks': None, 'colsample_bylevel': None, 'colsample_bynode': None, 'colsample_bytree': None, 'device': None, 'early_stopping_rounds': None, 'enable_categorical': False, 'eval_metric': None, 'feature_types': None, 'gamma': None, 'grow_policy': None, 'importance_type': None, 'interaction_constraints': None, 'learning_rate': 0.01, 'max_bin': None, 'max_cat_threshold': None, 'max_cat_to_onehot': None, 'max_delta_step': None, 'max_depth': 5, 'max_leaves': None, 'min_child_weight': None, 'missing': nan, 'monotone_constraints': None, 'multi_strategy': None, 'n_estimators': 200, 'n_jobs': None, 'num_parallel_tree': None, 'random_state': 42, 'reg_alpha': None, 'reg_lambda': None, 'sampling_method': None, 'scale_pos_weight': None, 'subsample': None, 'tree_method': None, 'validate_parameters': None, 'verbosity': None}\n"
     ]
    }
   ],
   "source": [
    "def hyperparameter_tuning(X_train, y_train, X_val, y_val):\n",
    "    param_grid = {\n",
    "        'n_estimators': [100, 200],\n",
    "        'learning_rate': [0.01, 0.1],\n",
    "        'max_depth': [3, 5, 7]\n",
    "    }\n",
    "\n",
    "    best_score = float('-inf')\n",
    "    best_model = None\n",
    "\n",
    "    for n_estimators in param_grid['n_estimators']:\n",
    "        for learning_rate in param_grid['learning_rate']:\n",
    "            for max_depth in param_grid['max_depth']:\n",
    "                model = XGBRegressor(\n",
    "                    n_estimators=n_estimators,\n",
    "                    learning_rate=learning_rate,\n",
    "                    max_depth=max_depth,\n",
    "                    random_state=42\n",
    "                )\n",
    "\n",
    "                model.fit(X_train, y_train)  # 👈 No eval_set or early_stopping\n",
    "\n",
    "                score = model.score(X_val, y_val)  # R^2 score on validation\n",
    "                print(f\"Params: n_estimators={n_estimators}, lr={learning_rate}, depth={max_depth}, Score={score:.4f}\")\n",
    "\n",
    "                if score > best_score:\n",
    "                    best_score = score\n",
    "                    best_model = model\n",
    "\n",
    "    print(f\"Best validation R^2 score: {best_score:.4f}\")\n",
    "    return {'XGBRegressor': best_model}\n",
    "\n",
    "# Run tuning\n",
    "tuned_models = hyperparameter_tuning(X_train_final, y_train_final, X_val, y_val)\n",
    "\n",
    "# Output best model params\n",
    "for name, model in tuned_models.items():\n",
    "    print(f\"Best parameters for {name}: {model.get_params()}\")"
   ]
  },
  {
   "cell_type": "markdown",
   "id": "61295ec7-db07-48f0-a601-fa3d1748a451",
   "metadata": {},
   "source": [
    "##### Model Performance Visualization"
   ]
  },
  {
   "cell_type": "code",
   "execution_count": 69,
   "id": "aa7f10e9-95cc-4bc1-bfdb-c81d29c6cb68",
   "metadata": {},
   "outputs": [
    {
     "data": {
      "text/plain": [
       "<Figure size 1200x600 with 0 Axes>"
      ]
     },
     "metadata": {},
     "output_type": "display_data"
    },
    {
     "data": {
      "image/png": "[encoded data removed]",
      "text/plain": [
       "<Figure size 640x480 with 1 Axes>"
      ]
     },
     "metadata": {},
     "output_type": "display_data"
    },
    {
     "name": "stdout",
     "output_type": "stream",
     "text": [
      "XGBoost model not found in tuned_models!\n",
      "\n",
      "Model Visualization completed!\n"
     ]
    }
   ],
   "source": [
    "def plot_results(models, y_test, prediction, X_columns, tuned_models):\n",
    "    \"\"\"Visualization of model performance and feature importance\"\"\"\n",
    "\n",
    "    ### Performance Visualization\n",
    "    plt.figure(figsize=(12, 6))\n",
    "    \n",
    "    rmse_values = [models[name][\"RMSE\"] for name in models]\n",
    "    r2_values = [models[name][\"R2\"] for name in models]\n",
    "    names = list(models.keys())\n",
    "\n",
    "    x = np.arange(len(names))\n",
    "    width = 0.35\n",
    "\n",
    "    fig, ax = plt.subplots()\n",
    "    ax.bar(x - width/2, rmse_values, width, label='RMSE')\n",
    "    ax.bar(x + width/2, r2_values, width, label='R2')\n",
    "\n",
    "    ax.set_xlabel('Models')\n",
    "    ax.set_title('Model Performance Comparison')\n",
    "    ax.set_xticks(x)\n",
    "    ax.set_xticklabels(names)\n",
    "    ax.legend()\n",
    "    plt.show()\n",
    "\n",
    "    # Feature Importance for XGBoost\n",
    "    if 'XGBoost' in tuned_models:\n",
    "        xgb_model = tuned_models['XGBoost']\n",
    "        feature_importances = xgb_model.feature_importances_\n",
    "        sorted_indices = np.argsort(feature_importances)[::-1]\n",
    "\n",
    "        plt.figure(figsize=(12, 6))\n",
    "        sns.barplot(x=feature_importances[sorted_indices], y=np.array(X_columns)[sorted_indices])\n",
    "        plt.xlabel(\"Feature Importance\")\n",
    "        plt.ylabel(\"Features\")\n",
    "        plt.title(\"Feature Importance - XGBoost\")\n",
    "        plt.show()\n",
    "    else:\n",
    "        print(\"XGBoost model not found in tuned_models!\")\n",
    "\n",
    "# Pass tuned_models as an argument\n",
    "plot_results(results, y_test, predictions, X.columns, tuned_models)\n",
    "\n",
    "print(\"\\nModel Visualization completed!\")"
   ]
  },
  {
   "cell_type": "code",
   "execution_count": 71,
   "id": "2a6af42f-3d62-4cae-95c0-36f420ab28dd",
   "metadata": {},
   "outputs": [
    {
     "name": "stdout",
     "output_type": "stream",
     "text": [
      "Model saved as property_price_model_2.pkl\n"
     ]
    }
   ],
   "source": [
    "# Save the best XGBoost model\n",
    "best_xgb = tuned_models['XGBRegressor']  # Correct the key to match the one in the dictionary\n",
    "joblib.dump(best_xgb, \"property_price_model_2.pkl\")\n",
    "print(\"Model saved as property_price_model_2.pkl\")"
   ]
  }
 ],
 "metadata": {
  "kernelspec": {
   "display_name": "Python 3 (ipykernel)",
   "language": "python",
   "name": "python3"
  },
  "language_info": {
   "codemirror_mode": {
    "name": "ipython",
    "version": 3
   },
   "file_extension": ".py",
   "mimetype": "text/x-python",
   "name": "python",
   "nbconvert_exporter": "python",
   "pygments_lexer": "ipython3",
   "version": "3.12.5"
  }
 },
 "nbformat": 4,
 "nbformat_minor": 5
}
